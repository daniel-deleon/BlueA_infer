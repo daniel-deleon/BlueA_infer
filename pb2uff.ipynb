{
 "cells": [
  {
   "cell_type": "markdown",
   "metadata": {},
   "source": [
    "# **PB to UFF conversion**\n",
    " **Code referenced from https://devblogs.nvidia.com/tensorrt-3-faster-tensorflow-inference/ and https://docs.nvidia.com/deeplearning/sdk/tensorrt-developer-guide/index.html#import_model_python**"
   ]
  },
  {
   "cell_type": "code",
   "execution_count": 1,
   "metadata": {},
   "outputs": [],
   "source": [
    "# Import TensorRT models\n",
    "import tensorrt as trt\n",
    "TRT_LOGGER = trt.Logger(trt.Logger.WARNING)"
   ]
  },
  {
   "cell_type": "code",
   "execution_count": 23,
   "metadata": {
    "scrolled": true
   },
   "outputs": [
    {
     "name": "stdout",
     "output_type": "stream",
     "text": [
      "2020-02-24 09:01:42.835791: I tensorflow/stream_executor/platform/default/dso_loader.cc:44] Successfully opened dynamic library libcudart.so.10.0\n",
      "Loading blueA_VGG16.pb\n",
      "WARNING:tensorflow:From /usr/lib/python3.6/dist-packages/uff/bin/../../uff/converters/tensorflow/conversion_helpers.py:227: The name tf.gfile.GFile is deprecated. Please use tf.io.gfile.GFile instead.\n",
      "\n",
      "NOTE: UFF has been tested with TensorFlow 1.14.0.\n",
      "WARNING: The version of TensorFlow installed on this system is not guaranteed to work with UFF.\n",
      "UFF Version 0.6.5\n",
      "=== Automatically deduced input nodes ===\n",
      "[name: \"vgg16_input\"\n",
      "op: \"Placeholder\"\n",
      "attr {\n",
      "  key: \"dtype\"\n",
      "  value {\n",
      "    type: DT_FLOAT\n",
      "  }\n",
      "}\n",
      "attr {\n",
      "  key: \"shape\"\n",
      "  value {\n",
      "    shape {\n",
      "      dim {\n",
      "        size: -1\n",
      "      }\n",
      "      dim {\n",
      "        size: 224\n",
      "      }\n",
      "      dim {\n",
      "        size: 224\n",
      "      }\n",
      "      dim {\n",
      "        size: 3\n",
      "      }\n",
      "    }\n",
      "  }\n",
      "}\n",
      "]\n",
      "=========================================\n",
      "\n",
      "=== Automatically deduced output nodes ===\n",
      "[name: \"dense/Softmax\"\n",
      "op: \"Softmax\"\n",
      "input: \"dense/BiasAdd\"\n",
      "attr {\n",
      "  key: \"T\"\n",
      "  value {\n",
      "    type: DT_FLOAT\n",
      "  }\n",
      "}\n",
      "]\n",
      "==========================================\n",
      "\n",
      "Using output node dense/Softmax\n",
      "Converting to UFF graph\n",
      "Warning: keepdims is ignored by the UFF Parser and defaults to True\n",
      "DEBUG [/usr/lib/python3.6/dist-packages/uff/bin/../../uff/converters/tensorflow/converter.py:96] Marking ['dense/Softmax'] as outputs\n",
      "No. nodes: 78\n",
      "UFF Output written to blueA_VGG16.uff\n"
     ]
    }
   ],
   "source": [
    "! python3 /usr/lib/python3.6/dist-packages/uff/bin/convert_to_uff.py blueA_VGG16.pb"
   ]
  },
  {
   "cell_type": "code",
   "execution_count": 2,
   "metadata": {},
   "outputs": [],
   "source": [
    "model_file = 'model/blueA_VGG16.uff'"
   ]
  },
  {
   "cell_type": "code",
   "execution_count": 1,
   "metadata": {},
   "outputs": [],
   "source": [
    "# Code from NVIDIA that doesn't work\n",
    "#with builder = trt.Builder(TRT_LOGGER) as builder, builder.create_network() as network, trt.UffParser() as parser:\n",
    "#    \tparser.register_input(\"dense/BiasAdd\", (3, 224, 224))\n",
    "#    \tparser.register_output(\"dense/Softmax\")\n",
    "#parser.parse(model_file, network)"
   ]
  },
  {
   "cell_type": "code",
   "execution_count": 12,
   "metadata": {},
   "outputs": [
    {
     "data": {
      "text/plain": [
       "True"
      ]
     },
     "execution_count": 12,
     "metadata": {},
     "output_type": "execute_result"
    }
   ],
   "source": [
    "builder = trt.Builder(TRT_LOGGER)\n",
    "network = builder.create_network()\n",
    "parser = trt.UffParser()\n",
    "parser.register_input(\"vgg16_input\", (3, 224, 224))\n",
    "parser.register_output(\"dense/Softmax\")\n",
    "parser.parse(model_file, network)"
   ]
  },
  {
   "cell_type": "code",
   "execution_count": null,
   "metadata": {},
   "outputs": [],
   "source": []
  }
 ],
 "metadata": {
  "kernelspec": {
   "display_name": "blueA_infer_kernel",
   "language": "python",
   "name": "bluea_infer_kernel"
  },
  "language_info": {
   "codemirror_mode": {
    "name": "ipython",
    "version": 3
   },
   "file_extension": ".py",
   "mimetype": "text/x-python",
   "name": "python",
   "nbconvert_exporter": "python",
   "pygments_lexer": "ipython3",
   "version": "3.6.9"
  }
 },
 "nbformat": 4,
 "nbformat_minor": 2
}
